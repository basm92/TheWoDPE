{
 "cells": [
  {
   "cell_type": "markdown",
   "metadata": {},
   "source": [
    "## Selenium in Python"
   ]
  },
  {
   "cell_type": "code",
   "execution_count": 19,
   "metadata": {},
   "outputs": [],
   "source": [
    "from selenium import webdriver\n",
    "from selenium.webdriver.common.keys import Keys\n",
    "from webdriver_manager.chrome import ChromeDriverManager\n",
    "\n",
    "import time\n",
    "import os \n",
    "\n",
    "from bs4 import BeautifulSoup\n",
    "import pandas as pd"
   ]
  },
  {
   "cell_type": "code",
   "execution_count": 20,
   "metadata": {},
   "outputs": [
    {
     "name": "stderr",
     "output_type": "stream",
     "text": [
      "[WDM] - Current google-chrome version is 83.0.4103\n",
      "[WDM] - Get LATEST driver version for 83.0.4103\n"
     ]
    },
    {
     "name": "stdout",
     "output_type": "stream",
     "text": [
      " \n"
     ]
    },
    {
     "name": "stderr",
     "output_type": "stream",
     "text": [
      "[WDM] - There is no [linux64] chromedriver for browser 83.0.4103 in cache\n",
      "[WDM] - Get LATEST driver version for 83.0.4103\n",
      "[WDM] - Trying to download new driver from http://chromedriver.storage.googleapis.com/83.0.4103.39/chromedriver_linux64.zip\n",
      "[WDM] - Driver has been saved in cache [/home/bas/.wdm/drivers/chromedriver/linux64/83.0.4103.39]\n"
     ]
    }
   ],
   "source": [
    "driver = webdriver.Chrome(ChromeDriverManager().install())"
   ]
  },
  {
   "cell_type": "markdown",
   "metadata": {},
   "source": [
    "## First, the Lower House (Tweede Kamer)"
   ]
  },
  {
   "cell_type": "code",
   "execution_count": 230,
   "metadata": {},
   "outputs": [],
   "source": [
    "driver.get(\"https://nl.wikipedia.org/wiki/Samenstelling_Tweede_Kamer_1871-1875\")"
   ]
  },
  {
   "cell_type": "markdown",
   "metadata": {},
   "source": [
    "First, get the list of clickable links through which to loop. \n",
    "\n",
    "Afterwards, loop through each of these links and extract the correct elements. "
   ]
  },
  {
   "cell_type": "code",
   "execution_count": 231,
   "metadata": {},
   "outputs": [
    {
     "data": {
      "text/plain": [
       "['1875-1879',\n",
       " '1879-1883',\n",
       " '1883-1884',\n",
       " '1884-1886',\n",
       " '1886-1887',\n",
       " '1887-1888',\n",
       " '1888-1891',\n",
       " '1891-1894',\n",
       " '1894-1897',\n",
       " '1897-1901',\n",
       " '1901-1905',\n",
       " '1905-1909',\n",
       " '1909-1913',\n",
       " '1913-1917',\n",
       " '1917-1918',\n",
       " '1918-1922']"
      ]
     },
     "execution_count": 231,
     "metadata": {},
     "output_type": "execute_result"
    }
   ],
   "source": [
    "years = driver.find_element_by_css_selector(\".navigatiesjabloon\").text.split()[49:80]\n",
    "years = [x for x in years if x != \"·\"]\n",
    "years"
   ]
  },
  {
   "cell_type": "code",
   "execution_count": 232,
   "metadata": {},
   "outputs": [],
   "source": [
    "pols = driver.find_elements_by_xpath(\"//ul[preceding-sibling::*[1][self::h3]]\")\n"
   ]
  },
  {
   "cell_type": "code",
   "execution_count": 233,
   "metadata": {},
   "outputs": [],
   "source": [
    "pols_flattened = []\n",
    "for pol in pols:\n",
    "    pol_split = pol.text.split(\"\\n\")\n",
    "    pols_flattened.extend(pol_split)"
   ]
  },
  {
   "cell_type": "code",
   "execution_count": 234,
   "metadata": {},
   "outputs": [
    {
     "name": "stdout",
     "output_type": "stream",
     "text": [
      "[                                                  Name Parliament\n",
      "0             Dirk van Akerlaken tot 20 september 1874  1871-1875\n",
      "1                               Willem Adriaan Bergsma  1871-1875\n",
      "2    Sybrand van Beyma thoe Kingma tot 14 september...  1871-1875\n",
      "3      Charles Antoine de Bieberstein Rogalla Zawadsky  1871-1875\n",
      "4                        François Willem Cornelis Blom  1871-1875\n",
      "..                                                 ...        ...\n",
      "99   Alex Schimmelpenninck van der Oye vanaf 15 sep...  1871-1875\n",
      "100  James John Teding van Berkhout vanaf 15 septem...  1871-1875\n",
      "101  Marinus Bichon van IJsselmonde vanaf 4 maart 1874  1871-1875\n",
      "102                 Abraham Kuyper vanaf 20 maart 1874  1871-1875\n",
      "103  Matthias Margarethus van Asch van Wijck vanaf ...  1871-1875\n",
      "\n",
      "[104 rows x 2 columns]]\n"
     ]
    }
   ],
   "source": [
    "year = \"1871-1875\"\n",
    "year = [year] * len(pols_flattened)\n",
    "\n",
    "temp = list(zip(pols_flattened, year))\n",
    "\n",
    "hey = []\n",
    "hey.append(pd.DataFrame(temp, columns=['Name','Parliament']))\n",
    "\n",
    "print(hey)"
   ]
  },
  {
   "cell_type": "code",
   "execution_count": 235,
   "metadata": {},
   "outputs": [],
   "source": [
    "for i in years:\n",
    "    hoi = driver.find_element_by_link_text(i)\n",
    "    hoi.click()\n",
    "    \n",
    "    pols = driver.find_elements_by_xpath(\"//ul[preceding-sibling::*[1][self::h3]]\")\n",
    "    pols_flattened = []\n",
    "    for pol in pols:\n",
    "        pol_split = pol.text.split(\"\\n\")\n",
    "        pols_flattened.extend(pol_split)\n",
    "    \n",
    "    for j in pols_flattened:\n",
    "        year = i\n",
    "        year = [year] * len(pols_flattened)\n",
    "        \n",
    "        temp = list(zip(pols_flattened, year))\n",
    "        \n",
    "    hey.append(pd.DataFrame(temp, columns = ['Name', 'Parliament']))\n",
    "    \n",
    "    \n",
    "    \n",
    "    "
   ]
  },
  {
   "cell_type": "code",
   "execution_count": 238,
   "metadata": {},
   "outputs": [
    {
     "data": {
      "text/plain": [
       "pandas.core.frame.DataFrame"
      ]
     },
     "execution_count": 238,
     "metadata": {},
     "output_type": "execute_result"
    }
   ],
   "source": [
    "type(hey[0])"
   ]
  },
  {
   "cell_type": "markdown",
   "metadata": {},
   "source": [
    "## Second, the Upper House (Eerste Kamer) \n",
    "\n",
    "I will do everything in one loop instead of demonstrating the first iteration."
   ]
  },
  {
   "cell_type": "code",
   "execution_count": null,
   "metadata": {},
   "outputs": [],
   "source": [
    "driver.get(\"https://nl.wikipedia.org/wiki/Samenstelling_Eerste_Kamer_1871-1874\")"
   ]
  },
  {
   "cell_type": "code",
   "execution_count": 246,
   "metadata": {},
   "outputs": [
    {
     "data": {
      "text/plain": [
       "['1871-1874',\n",
       " '1874-1877',\n",
       " '1877-1880',\n",
       " '1880-1883',\n",
       " '1883-1884',\n",
       " '1884-1887',\n",
       " '1887-1888',\n",
       " '1888-1890',\n",
       " '1890-1893',\n",
       " '1893-1896',\n",
       " '1896-1899',\n",
       " '1899-1902',\n",
       " '1902-1904',\n",
       " '1904-1907',\n",
       " '1907-1910',\n",
       " '1910-1913',\n",
       " '1913-1916',\n",
       " '1916-1917',\n",
       " '1917-1919',\n",
       " '1919-1922']"
      ]
     },
     "execution_count": 246,
     "metadata": {},
     "output_type": "execute_result"
    }
   ],
   "source": [
    "years = driver.find_element_by_css_selector(\".navigatiesjabloon\").text.split()[29:69]\n",
    "years = [x for x in years if x != \"·\"]\n"
   ]
  },
  {
   "cell_type": "code",
   "execution_count": 247,
   "metadata": {},
   "outputs": [],
   "source": [
    "hey = []\n",
    "\n",
    "for i in years:\n",
    "    \n",
    "    if i != \"1871-1874\":\n",
    "        hoi = driver.find_element_by_link_text(i)\n",
    "        hoi.click() \n",
    "        \n",
    "    pols = driver.find_elements_by_xpath(\"//ul[preceding-sibling::*[1][self::h3]]\")\n",
    "    pols_flattened = []\n",
    "    \n",
    "    for pol in pols:\n",
    "        pol_split = pol.text.split(\"\\n\")\n",
    "        pols_flattened.extend(pol_split)\n",
    "    \n",
    "    for j in pols_flattened:\n",
    "        year = i\n",
    "        year = [year] * len(pols_flattened)\n",
    "        \n",
    "        temp = list(zip(pols_flattened, year))\n",
    "    \n",
    "    hey.append(pd.DataFrame(temp, columns = ['Name', 'Parliament']))\n",
    "    \n",
    "    \n",
    "        \n",
    "    "
   ]
  },
  {
   "cell_type": "code",
   "execution_count": 255,
   "metadata": {},
   "outputs": [
    {
     "name": "stdout",
     "output_type": "stream",
     "text": [
      "                                                 Name Parliament\n",
      "0          Dominicus Blankenheym tot 5 september 1872  1871-1874\n",
      "1                           Willem Christiaan Borsius  1871-1874\n",
      "2                   Eugène Jean Alexander van Bylandt  1871-1874\n",
      "3                Hendrikus Albertus Diedericus Coenen  1871-1874\n",
      "4    Willem Herman Cost Jordens tot 14 september 1873  1871-1874\n",
      "5                                        Coos Cremers  1871-1874\n",
      "6              Daniël Carel de Dieu Fontein Verschuir  1871-1874\n",
      "7                  Albertus Jacobus Duymaer van Twist  1871-1874\n",
      "8                      Frans Julius Johan van Eysinga  1871-1874\n",
      "9                       Johannes Fransen van de Putte  1871-1874\n",
      "10                            Cornelis Jans Geertsema  1871-1874\n",
      "11                                 Johan Wilhelm Hein  1871-1874\n",
      "12                                    Johannes Hengst  1871-1874\n",
      "13  Franciscus Bernardus Hubertus Michiels van Kes...  1871-1874\n",
      "14                          Carel Johan Richard Nobel  1871-1874\n",
      "15                                     Adrianus Prins  1871-1874\n",
      "16                           Gerrit Adrianus de Raadt  1871-1874\n",
      "17                         Louis van Sasse van Ysselt  1871-1874\n",
      "18                                   Gijsbertus Schot  1871-1874\n",
      "19                                   Hendrik Jan Smit  1871-1874\n",
      "20                            Charles Theodorus Stork  1871-1874\n",
      "21             Gerard Regnier Gerlacius van Swinderen  1871-1874\n",
      "22                             Herman Eliza Verschoor  1871-1874\n",
      "23        Louis Libert Guillaume Marc Villers de Pité  1871-1874\n",
      "24                            Theodorus Pieter Viruly  1871-1874\n",
      "25                              Joost van Vollenhoven  1871-1874\n",
      "26                                  Louis Beerenbroek  1871-1874\n",
      "27                    Joan Huydecoper van Maarsseveen  1871-1874\n",
      "28                                 Herman Jan Rahusen  1871-1874\n",
      "29       Cornelis Herman van Rhemen van Rhemenshuizen  1871-1874\n",
      "30          Carolus Jacobus Antonius van Rijckevorsel  1871-1874\n",
      "31              Jan Arend Godert de Vos van Steenwijk  1871-1874\n",
      "32                 Hans Willem van Aylva van Pallandt  1871-1874\n",
      "33       Jan Karel van Goltstein tot 16 februari 1872  1871-1874\n",
      "34                                   Cornelis Hartsen  1871-1874\n",
      "35  Jan Messchert van Vollenhoven tot 14 september...  1871-1874\n",
      "36  Willem Anne Schimmelpenninck van der Oye tot 1...  1871-1874\n",
      "37                           Wyncko Johannes Tonckens  1871-1874\n",
      "38                    Antonius Franciscus Vos de Wael  1871-1874\n",
      "39            Lodewijk Pincoffs vanaf 6 november 1872  1871-1874\n",
      "40                   Jacobus Thooft vanaf 16 mei 1873  1871-1874\n",
      "41    Ernst Christiaan Büchner vanaf 18 november 1873  1871-1874\n",
      "42               Gerard Dumbar vanaf 21 november 1873  1871-1874\n",
      "43  Willem van Goltstein van Oldenaller vanaf 4 ap...  1871-1874\n"
     ]
    }
   ],
   "source": [
    "print(hey[0])"
   ]
  },
  {
   "cell_type": "code",
   "execution_count": null,
   "metadata": {},
   "outputs": [],
   "source": [
    "## Now, everything is here in hey! Maybe tomorrow, clean the strings and export in order to match with wealth data"
   ]
  }
 ],
 "metadata": {
  "kernelspec": {
   "display_name": "Python 3",
   "language": "python",
   "name": "python3"
  },
  "language_info": {
   "codemirror_mode": {
    "name": "ipython",
    "version": 3
   },
   "file_extension": ".py",
   "mimetype": "text/x-python",
   "name": "python",
   "nbconvert_exporter": "python",
   "pygments_lexer": "ipython3",
   "version": "3.7.6"
  }
 },
 "nbformat": 4,
 "nbformat_minor": 4
}
